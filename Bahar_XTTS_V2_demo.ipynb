{
  "nbformat": 4,
  "nbformat_minor": 0,
  "metadata": {
    "colab": {
      "private_outputs": true,
      "provenance": [],
      "gpuType": "T4",
      "include_colab_link": true
    },
    "kernelspec": {
      "name": "python3",
      "display_name": "Python 3"
    },
    "language_info": {
      "name": "python"
    },
    "accelerator": "GPU"
  },
  "cells": [
    {
      "cell_type": "markdown",
      "metadata": {
        "id": "view-in-github",
        "colab_type": "text"
      },
      "source": [
        "<a href=\"https://colab.research.google.com/github/barghavanii/Multilingual_NLP_Teacher_assistant/blob/main/Bahar_XTTS_V2_demo.ipynb\" target=\"_parent\"><img src=\"https://colab.research.google.com/assets/colab-badge.svg\" alt=\"Open In Colab\"/></a>"
      ]
    },
    {
      "cell_type": "code",
      "execution_count": null,
      "metadata": {
        "id": "aglnhdCXB2Xr"
      },
      "outputs": [],
      "source": [
        "!git clone https://github.com/UNHSAILLab/TTS.git"
      ]
    },
    {
      "cell_type": "code",
      "source": [
        "!pip install numpy==1.22.0 pandas==1.5.3"
      ],
      "metadata": {
        "id": "9SPY1M3lEZCS"
      },
      "execution_count": null,
      "outputs": []
    },
    {
      "cell_type": "code",
      "source": [
        "!pwd"
      ],
      "metadata": {
        "id": "JaVk6vt1INQj"
      },
      "execution_count": null,
      "outputs": []
    },
    {
      "cell_type": "code",
      "source": [
        "%cd TTS"
      ],
      "metadata": {
        "id": "OWf3arorCUka"
      },
      "execution_count": null,
      "outputs": []
    },
    {
      "cell_type": "code",
      "source": [
        "!pip install -e."
      ],
      "metadata": {
        "id": "9OoKLzOgCuKx"
      },
      "execution_count": null,
      "outputs": []
    },
    {
      "cell_type": "code",
      "source": [
        "!pip install soundfile"
      ],
      "metadata": {
        "id": "JuxtC6eMCwuJ"
      },
      "execution_count": null,
      "outputs": []
    },
    {
      "cell_type": "code",
      "source": [
        "from google.colab import drive\n",
        "drive.mount('/content/drive')\n"
      ],
      "metadata": {
        "id": "chNz1m5qF2Wf"
      },
      "execution_count": null,
      "outputs": []
    },
    {
      "cell_type": "code",
      "source": [
        "from TTS.tts.configs.xtts_config import XttsConfig\n",
        "from TTS.tts.models.xtts import Xtts\n",
        "import soundfile as sf  # Ensure this library is installed\n",
        "\n",
        "# Load the configuration\n",
        "config_path = \"/content/drive/MyDrive/XTTS_Akhbar/config.json\"\n",
        "config = XttsConfig()\n",
        "config.load_json(config_path)\n",
        "\n",
        "# Initialize the model from the configuration\n",
        "model = Xtts.init_from_config(config)\n",
        "\n",
        "# Load the model checkpoint\n",
        "checkpoint_dir = \"/content/drive/MyDrive/XTTS_Akhbar\"\n",
        "model.load_checkpoint(config, checkpoint_dir=checkpoint_dir, eval=True)\n",
        "\n",
        "# Move the model to GPU if you're using CUDA\n",
        "#model.cuda()\n",
        "\n",
        "# Synthesize speech\n",
        "outputs = model.synthesize(\n",
        "    \"در بودجه سال 2025، دولت ایران اعلام کرد که 15 درصد از کل بودجه، معادل تقریباً 30 میلیارد دلار، به توسعه زیرساخت‌های حمل‌ونقل و 25 درصد دیگر، به بهبود بخش بهداشت و درمان اختصاص یافته است.\",\n",
        "    config,\n",
        "    speaker_wav=\"/content/drive/MyDrive/XTTS_Akhbar/10-101-fa (1).wav\",\n",
        "    gpt_cond_len=3,\n",
        "    language=\"fa\",\n",
        ")\n",
        "\n",
        "# Specify where you want to save the output audio file\n",
        "output_path = \"synthesized_speech.wav\"\n",
        "\n",
        "# Use 'outputs['wav']' to get the audio data since it's stored under the 'wav' key\n",
        "audio_data = outputs['wav']\n",
        "samplerate = 22050  # Adjust this based on your model's output sample rate\n",
        "\n",
        "# Save the audio data\n",
        "sf.write(file=output_path, data=audio_data, samplerate=samplerate)\n",
        "\n",
        "print(f\"Audio saved to {output_path}\")"
      ],
      "metadata": {
        "id": "EY3_9UD8FoUQ"
      },
      "execution_count": null,
      "outputs": []
    },
    {
      "cell_type": "code",
      "source": [
        "from IPython.display import Audio\n",
        "\n",
        "# Use 'outputs['wav']' to get the audio data since it's stored under the 'wav' key\n",
        "audio_data = outputs['wav']\n",
        "samplerate = 22050  # Adjust this based on your model's output sample rate\n",
        "\n",
        "# Instead of saving, directly play it in the notebook\n",
        "Audio(audio_data, rate=samplerate)\n"
      ],
      "metadata": {
        "id": "B13JgMb1G840"
      },
      "execution_count": null,
      "outputs": []
    }
  ]
}