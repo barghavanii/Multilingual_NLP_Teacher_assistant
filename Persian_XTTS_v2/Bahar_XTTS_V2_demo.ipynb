{
  "nbformat": 4,
  "nbformat_minor": 0,
  "metadata": {
    "colab": {
      "private_outputs": true,
      "provenance": [],
      "gpuType": "T4",
      "include_colab_link": true
    },
    "kernelspec": {
      "name": "python3",
      "display_name": "Python 3"
    },
    "language_info": {
      "name": "python"
    },
    "accelerator": "GPU"
  },
  "cells": [
    {
      "cell_type": "markdown",
      "metadata": {
        "id": "view-in-github",
        "colab_type": "text"
      },
      "source": [
        "<a href=\"https://colab.research.google.com/github/barghavanii/Multilingual_NLP_Teacher_assistant/blob/main/Bahar_XTTS_V2_demo.ipynb\" target=\"_parent\"><img src=\"https://colab.research.google.com/assets/colab-badge.svg\" alt=\"Open In Colab\"/></a>"
      ]
    },
    {
      "cell_type": "code",
      "execution_count": null,
      "metadata": {
        "id": "aglnhdCXB2Xr"
      },
      "outputs": [],
      "source": [
        "!git clone https://github.com/UNHSAILLab/TTS.git"
      ]
    },
    {
      "cell_type": "code",
      "source": [
        "!pip install numpy==1.22.0 pandas==1.5.3"
      ],
      "metadata": {
        "id": "9SPY1M3lEZCS"
      },
      "execution_count": null,
      "outputs": []
    },
    {
      "cell_type": "code",
      "source": [
        "!pwd"
      ],
      "metadata": {
        "id": "JaVk6vt1INQj"
      },
      "execution_count": null,
      "outputs": []
    },
    {
      "cell_type": "code",
      "source": [
        "%cd TTS"
      ],
      "metadata": {
        "id": "OWf3arorCUka"
      },
      "execution_count": null,
      "outputs": []
    },
    {
      "cell_type": "code",
      "source": [
        "!pip install -e."
      ],
      "metadata": {
        "id": "9OoKLzOgCuKx"
      },
      "execution_count": null,
      "outputs": []
    },
    {
      "cell_type": "code",
      "source": [
        "!pip install soundfile"
      ],
      "metadata": {
        "id": "JuxtC6eMCwuJ"
      },
      "execution_count": null,
      "outputs": []
    },
    {
      "cell_type": "code",
      "source": [
        "from google.colab import drive\n",
        "drive.mount('/content/drive')\n"
      ],
      "metadata": {
        "id": "chNz1m5qF2Wf"
      },
      "execution_count": null,
      "outputs": []
    },
    {
      "cell_type": "code",
      "source": [
        "from TTS.tts.configs.xtts_config import XttsConfig\n",
        "from TTS.tts.models.xtts import Xtts\n",
        "import soundfile as sf  # Ensure this library is installed\n",
        "\n",
        "# Load the configuration\n",
        "config_path = \"/content/drive/MyDrive/XTTS_Akhbar/checkpoint/config.json\"\n",
        "config = XttsConfig()\n",
        "config.load_json(config_path)\n",
        "\n",
        "# Initialize the model from the configuration\n",
        "model = Xtts.init_from_config(config)\n",
        "\n",
        "# Load the model checkpoint\n",
        "checkpoint_dir = \"/content/drive/MyDrive/XTTS_Akhbar/checkpoint/\"\n",
        "model.load_checkpoint(config, checkpoint_dir=checkpoint_dir, eval=True)\n",
        "\n",
        "# Move the model to GPU if you're using CUDA\n",
        "#model.cuda()\n",
        "\n",
        "# Synthesize speech\n",
        "outputs = model.synthesize(\n",
        "    \"در اخبار امروز ، اتفاقی بی‌سابقه در حوزه انرژی‌های تجدیدپذیر رخ داده است . دولت ایران اعلام کرده که برنامه‌ریزی برای افزایش ظرفیت تولید انرژی خورشیدی در کشور را آغاز کرده است.  \",\n",
        "    config,\n",
        "    speaker_wav=\"/content/drive/MyDrive/XTTS_Akhbar/ZanAkhbar.wav\",\n",
        "    gpt_cond_len=3,\n",
        "    language=\"fa\",\n",
        ")\n",
        "\n",
        "# Specify where you want to save the output audio file\n",
        "output_path = \"synthesized_speech.wav\"\n",
        "\n",
        "# Use 'outputs['wav']' to get the audio data since it's stored under the 'wav' key\n",
        "audio_data = outputs['wav']\n",
        "samplerate = 22050  # Adjust this based on your model's output sample rate\n",
        "\n",
        "# Save the audio data\n",
        "sf.write(file=output_path, data=audio_data, samplerate=samplerate)\n",
        "\n",
        "print(f\"Audio saved to {output_path}\")"
      ],
      "metadata": {
        "id": "EY3_9UD8FoUQ"
      },
      "execution_count": null,
      "outputs": []
    },
    {
      "cell_type": "code",
      "source": [
        "from IPython.display import Audio\n",
        "\n",
        "# Use 'outputs['wav']' to get the audio data since it's stored under the 'wav' key\n",
        "#audio_data = outputs['wav']\n",
        "audio_data = \"synthesized_speech.wav\"\n",
        "samplerate = 22050  # Adjust this based on your model's output sample rate\n",
        "\n",
        "# Instead of saving, directly play it in the notebook\n",
        "Audio(audio_data, rate=samplerate)\n"
      ],
      "metadata": {
        "id": "B13JgMb1G840"
      },
      "execution_count": null,
      "outputs": []
    },
    {
      "cell_type": "markdown",
      "source": [],
      "metadata": {
        "id": "LId0a6LsVRGo"
      }
    },
    {
      "cell_type": "code",
      "source": [
        "import pandas as pd\n",
        "from TTS.tts.configs.xtts_config import XttsConfig\n",
        "from TTS.tts.models.xtts import Xtts\n",
        "import soundfile as sf\n",
        "import os\n",
        "\n",
        "# Load the configuration\n",
        "config_path = \"/content/drive/MyDrive/XTTS_Akhbar/XTTS_v2/config.json\"\n",
        "config = XttsConfig()\n",
        "config.load_json(config_path)\n",
        "\n",
        "# Initialize the model from the configuration\n",
        "model = Xtts.init_from_config(config)\n",
        "\n",
        "# Load the model checkpoint\n",
        "checkpoint_dir = \"/content/drive/MyDrive/XTTS_Akhbar/XTTS_v2/\"\n",
        "model.load_checkpoint(config, checkpoint_dir=checkpoint_dir, eval=True)\n",
        "\n",
        "# Uncomment to run on GPU\n",
        "# model.cuda()\n",
        "\n",
        "# Read the CSV file\n",
        "df = pd.read_csv('/content/text_xtts_f3.csv')\n",
        "\n",
        "# Specify the directory to store all synthesized audios\n",
        "output_directory = \"/content/drive/MyDrive/AutoMOS/XTTS/Synthesized_Audios\"\n",
        "if not os.path.exists(output_directory):\n",
        "    os.makedirs(output_directory)\n",
        "\n",
        "for index, row in df.iterrows():\n",
        "    text = row['Text']\n",
        "    filename = row['Filename']\n",
        "\n",
        "    # Synthesize speech\n",
        "    outputs = model.synthesize(\n",
        "        text,\n",
        "        config,\n",
        "        speaker_wav=\"/content/drive/MyDrive/XTTS_Akhbar/ZanAkhbar.wav\",\n",
        "        gpt_cond_len=3,\n",
        "        language=\"fa\",\n",
        "    )\n",
        "\n",
        "    # Construct the full path to save the file\n",
        "    output_path = os.path.join(output_directory, filename)\n",
        "\n",
        "    # Save the audio data\n",
        "    audio_data = outputs['wav']\n",
        "    samplerate = 22050  # Adjust based on your model's output sample rate\n",
        "    sf.write(file=output_path, data=audio_data, samplerate=samplerate)\n",
        "\n",
        "    print(f\"Audio saved to {output_path}\")\n"
      ],
      "metadata": {
        "id": "J8nDM0QBuu_C"
      },
      "execution_count": null,
      "outputs": []
    }
  ]
}
